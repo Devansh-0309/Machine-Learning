{
 "cells": [
  {
   "cell_type": "markdown",
   "id": "6a1fca06-c4fe-4787-b63b-8ab28d1b57b2",
   "metadata": {},
   "source": [
    "# **Numpy**"
   ]
  },
  {
   "cell_type": "markdown",
   "id": "0521c353-cb7f-48af-8667-b8c2faf8a97b",
   "metadata": {},
   "source": [
    "## **Methods to create numpy arrays**"
   ]
  },
  {
   "cell_type": "code",
   "execution_count": 1,
   "id": "c8c59356-64f4-4de1-8524-3fef640a29cc",
   "metadata": {},
   "outputs": [],
   "source": [
    "#creating numpy arrays\n",
    "\n",
    "import numpy as np  #np is an alias name"
   ]
  },
  {
   "cell_type": "markdown",
   "id": "6e12f33a-7297-4ba3-9cd3-f3badb32e3e7",
   "metadata": {},
   "source": [
    "## First Method"
   ]
  },
  {
   "cell_type": "code",
   "execution_count": 2,
   "id": "da9ca566-9366-4bb0-83e8-0ae40cc8acc4",
   "metadata": {},
   "outputs": [
    {
     "data": {
      "text/plain": [
       "array([1, 2, 3, 4, 5, 5])"
      ]
     },
     "execution_count": 2,
     "metadata": {},
     "output_type": "execute_result"
    }
   ],
   "source": [
    "# Array method (provide a list and it will be created into an array)\n",
    "\n",
    "arr1= np.array([1,2,3,4,5,5])\n",
    "arr1"
   ]
  },
  {
   "cell_type": "code",
   "execution_count": 3,
   "id": "41de58c1-8838-4758-9799-994dad9e6642",
   "metadata": {},
   "outputs": [
    {
     "data": {
      "text/plain": [
       "numpy.ndarray"
      ]
     },
     "execution_count": 3,
     "metadata": {},
     "output_type": "execute_result"
    }
   ],
   "source": [
    "# check the type of arr1\n",
    "\n",
    "type(arr1)"
   ]
  },
  {
   "cell_type": "markdown",
   "id": "51ec993b-2f01-437e-bd2a-98778851b216",
   "metadata": {},
   "source": [
    "##### Creating 2D array "
   ]
  },
  {
   "cell_type": "code",
   "execution_count": 4,
   "id": "0b3df29d-9e4e-4fd2-ad7a-c1d265972cd4",
   "metadata": {},
   "outputs": [
    {
     "data": {
      "text/plain": [
       "array([[1, 2, 3],\n",
       "       [4, 5, 6]])"
      ]
     },
     "execution_count": 4,
     "metadata": {},
     "output_type": "execute_result"
    }
   ],
   "source": [
    "#provide list inside a list\n",
    "\n",
    "arr2 = np.array([[1,2,3],[4,5,6]])\n",
    "arr2"
   ]
  },
  {
   "cell_type": "code",
   "execution_count": 5,
   "id": "4b16e079-3d11-4dba-8d62-6d3847e6a054",
   "metadata": {},
   "outputs": [
    {
     "data": {
      "text/plain": [
       "numpy.ndarray"
      ]
     },
     "execution_count": 5,
     "metadata": {},
     "output_type": "execute_result"
    }
   ],
   "source": [
    "type(arr2)"
   ]
  },
  {
   "cell_type": "markdown",
   "id": "a3d3f647-84e2-45f2-a3c0-052fa33d42b0",
   "metadata": {},
   "source": [
    "## Second Method"
   ]
  },
  {
   "cell_type": "code",
   "execution_count": 6,
   "id": "761907a5-658f-4dfb-9317-6ac2f2f3c456",
   "metadata": {},
   "outputs": [
    {
     "data": {
      "text/plain": [
       "array([[0., 0., 0.],\n",
       "       [0., 0., 0.]])"
      ]
     },
     "execution_count": 6,
     "metadata": {},
     "output_type": "execute_result"
    }
   ],
   "source": [
    "# zeroes Method (Creates a zero matrix)\n",
    "# pass the shape in form of a tuple\n",
    "\n",
    "arr3 = np.zeros((2,3))\n",
    "arr3"
   ]
  },
  {
   "cell_type": "markdown",
   "id": "298cf846-55dc-4d57-bf4d-e92a1a99096d",
   "metadata": {},
   "source": [
    "## Third Method"
   ]
  },
  {
   "cell_type": "code",
   "execution_count": 7,
   "id": "05b006ee-784f-4bb4-b733-9e716f8e910e",
   "metadata": {},
   "outputs": [
    {
     "data": {
      "text/plain": [
       "array([[1., 1., 1., 1.],\n",
       "       [1., 1., 1., 1.],\n",
       "       [1., 1., 1., 1.]])"
      ]
     },
     "execution_count": 7,
     "metadata": {},
     "output_type": "execute_result"
    }
   ],
   "source": [
    "# ones Method (Creates a ones matrix)\n",
    "# pass the shape in form of tuple\n",
    "\n",
    "arr4 = np.ones((3,4))\n",
    "arr4"
   ]
  },
  {
   "cell_type": "markdown",
   "id": "86911d27-4a03-4607-afae-10915b66aa4a",
   "metadata": {},
   "source": [
    "**By default the data type of each element is float**"
   ]
  },
  {
   "cell_type": "markdown",
   "id": "1a9e8195-973d-4d28-a92d-c05d9b1c1e34",
   "metadata": {},
   "source": [
    "## Fourth Method"
   ]
  },
  {
   "cell_type": "markdown",
   "id": "f3ac3a7b-543d-4b02-9e87-9d48ba5ce969",
   "metadata": {},
   "source": [
    "**Identity matrix is a matrix whose diagonal has 1 as the value**"
   ]
  },
  {
   "cell_type": "code",
   "execution_count": 8,
   "id": "26975cee-a665-4d59-9993-3997ea71cb81",
   "metadata": {},
   "outputs": [
    {
     "data": {
      "text/plain": [
       "array([[1., 0., 0., 0., 0.],\n",
       "       [0., 1., 0., 0., 0.],\n",
       "       [0., 0., 1., 0., 0.],\n",
       "       [0., 0., 0., 1., 0.],\n",
       "       [0., 0., 0., 0., 1.]])"
      ]
     },
     "execution_count": 8,
     "metadata": {},
     "output_type": "execute_result"
    }
   ],
   "source": [
    "# Identity Method (Creates an identity matrix)\n",
    "# pass only one value as its a square matrix\n",
    "\n",
    "arr5 = np.identity((5))\n",
    "arr5"
   ]
  },
  {
   "cell_type": "markdown",
   "id": "b9e4d349-0574-4e86-b341-8645a7ed0ff2",
   "metadata": {},
   "source": [
    "## Fifth Method"
   ]
  },
  {
   "cell_type": "markdown",
   "id": "d61214db-964a-43a5-bfa2-5c32d5d62cf5",
   "metadata": {},
   "source": [
    "**It is same as the range function in python**"
   ]
  },
  {
   "cell_type": "code",
   "execution_count": 9,
   "id": "15b0c185-c517-4a5d-a417-b48d877def82",
   "metadata": {},
   "outputs": [
    {
     "data": {
      "text/plain": [
       "array([ 5,  7,  9, 11, 13, 15])"
      ]
     },
     "execution_count": 9,
     "metadata": {},
     "output_type": "execute_result"
    }
   ],
   "source": [
    "# arange Method (creates a 1D array with given range)\n",
    "\n",
    "arr6 = np.arange(5,17,2)\n",
    "arr6"
   ]
  },
  {
   "cell_type": "markdown",
   "id": "e2bfe2c4-91a4-4f16-a912-1498c301489d",
   "metadata": {},
   "source": [
    "## Sixth Method"
   ]
  },
  {
   "cell_type": "markdown",
   "id": "1d2d493f-6f92-4b92-b20e-1a77167f00d7",
   "metadata": {},
   "source": [
    "**It creates values with equal difference between them**"
   ]
  },
  {
   "cell_type": "code",
   "execution_count": 10,
   "id": "3c77a1f6-1053-469a-bf87-87d63fd243e9",
   "metadata": {},
   "outputs": [
    {
     "data": {
      "text/plain": [
       "array([10.        , 13.33333333, 16.66666667, 20.        ])"
      ]
     },
     "execution_count": 10,
     "metadata": {},
     "output_type": "execute_result"
    }
   ],
   "source": [
    "# Linspace Method \n",
    "# pass the range and the number of values you want between the range\n",
    "\n",
    "arr7 = np.linspace(10,20,4)\n",
    "arr7"
   ]
  },
  {
   "cell_type": "markdown",
   "id": "569825fc-4a42-45dc-825d-1632b90a3524",
   "metadata": {},
   "source": [
    "## Seventh Method"
   ]
  },
  {
   "cell_type": "code",
   "execution_count": 11,
   "id": "552cf850-8136-4b58-8a91-3d7b00511963",
   "metadata": {},
   "outputs": [
    {
     "data": {
      "text/plain": [
       "array([10.        , 13.33333333, 16.66666667, 20.        ])"
      ]
     },
     "execution_count": 11,
     "metadata": {},
     "output_type": "execute_result"
    }
   ],
   "source": [
    "# copy Method \n",
    "# It copies any array\n",
    "\n",
    "arr8 = arr7.copy()\n",
    "arr8"
   ]
  },
  {
   "cell_type": "markdown",
   "id": "90fdec0c-4eb2-40d6-83c4-301f67121810",
   "metadata": {},
   "source": [
    "# **Properties and Attributes**"
   ]
  },
  {
   "cell_type": "markdown",
   "id": "9002c877-bb6f-4d3e-9fe8-2894ac032c91",
   "metadata": {},
   "source": [
    "### 1. Shape (Att)"
   ]
  },
  {
   "cell_type": "markdown",
   "id": "8ca0fe05-d653-44af-8471-69e7b16f0f4e",
   "metadata": {},
   "source": [
    "**Use to check shape of the array**"
   ]
  },
  {
   "cell_type": "code",
   "execution_count": 12,
   "id": "2895116d-0937-4baa-8f41-e9976cc3b7a2",
   "metadata": {},
   "outputs": [
    {
     "data": {
      "text/plain": [
       "array([1, 2, 3, 4, 5, 5])"
      ]
     },
     "execution_count": 12,
     "metadata": {},
     "output_type": "execute_result"
    }
   ],
   "source": [
    "arr1"
   ]
  },
  {
   "cell_type": "code",
   "execution_count": 13,
   "id": "5c267011-312a-4651-b9b2-7e35120341cf",
   "metadata": {},
   "outputs": [
    {
     "data": {
      "text/plain": [
       "(6,)"
      ]
     },
     "execution_count": 13,
     "metadata": {},
     "output_type": "execute_result"
    }
   ],
   "source": [
    "arr1.shape"
   ]
  },
  {
   "cell_type": "code",
   "execution_count": 14,
   "id": "98db6364-cdb8-451f-a0cc-7c5afdbcf51b",
   "metadata": {},
   "outputs": [
    {
     "data": {
      "text/plain": [
       "array([[1, 2, 3],\n",
       "       [4, 5, 6]])"
      ]
     },
     "execution_count": 14,
     "metadata": {},
     "output_type": "execute_result"
    }
   ],
   "source": [
    "arr2"
   ]
  },
  {
   "cell_type": "code",
   "execution_count": 15,
   "id": "0e29efd4-63fa-4450-a8b9-2c61bd67c2c2",
   "metadata": {},
   "outputs": [
    {
     "data": {
      "text/plain": [
       "(2, 3)"
      ]
     },
     "execution_count": 15,
     "metadata": {},
     "output_type": "execute_result"
    }
   ],
   "source": [
    "arr2.shape"
   ]
  },
  {
   "cell_type": "code",
   "execution_count": 16,
   "id": "0c2577c9-efc3-4955-9d22-f974a7bc530b",
   "metadata": {},
   "outputs": [
    {
     "data": {
      "text/plain": [
       "array([[[1, 2],\n",
       "        [4, 5]],\n",
       "\n",
       "       [[5, 6],\n",
       "        [7, 8]]])"
      ]
     },
     "execution_count": 16,
     "metadata": {},
     "output_type": "execute_result"
    }
   ],
   "source": [
    "#Creating a 3D array\n",
    "\n",
    "arr9 = np.array([[[1,2],[4,5]],[[5,6],[7,8]]])\n",
    "arr9"
   ]
  },
  {
   "cell_type": "code",
   "execution_count": 17,
   "id": "05bf065a-7c21-499a-aa2e-6d98a88916c5",
   "metadata": {},
   "outputs": [
    {
     "data": {
      "text/plain": [
       "(2, 2, 2)"
      ]
     },
     "execution_count": 17,
     "metadata": {},
     "output_type": "execute_result"
    }
   ],
   "source": [
    "arr9.shape"
   ]
  },
  {
   "cell_type": "markdown",
   "id": "e42736c7-9d33-4f48-b41c-e4e13a6c871e",
   "metadata": {},
   "source": [
    "### 2. ndim (Att)"
   ]
  },
  {
   "cell_type": "markdown",
   "id": "f04aaeb1-874c-4a5c-8ec0-d6783bbea7d0",
   "metadata": {},
   "source": [
    "**Use to check dimensions of the array**"
   ]
  },
  {
   "cell_type": "code",
   "execution_count": 18,
   "id": "96f570bb-e282-45a3-9b81-c8c6a6c6d832",
   "metadata": {},
   "outputs": [
    {
     "data": {
      "text/plain": [
       "1"
      ]
     },
     "execution_count": 18,
     "metadata": {},
     "output_type": "execute_result"
    }
   ],
   "source": [
    "arr1.ndim"
   ]
  },
  {
   "cell_type": "code",
   "execution_count": 19,
   "id": "7582179a-2166-411e-8a7c-d8b12094d3fe",
   "metadata": {},
   "outputs": [
    {
     "data": {
      "text/plain": [
       "2"
      ]
     },
     "execution_count": 19,
     "metadata": {},
     "output_type": "execute_result"
    }
   ],
   "source": [
    "arr2.ndim"
   ]
  },
  {
   "cell_type": "code",
   "execution_count": 20,
   "id": "1c0fd9e7-ed23-45d9-9a70-0ffbbf6cbe3c",
   "metadata": {},
   "outputs": [
    {
     "data": {
      "text/plain": [
       "3"
      ]
     },
     "execution_count": 20,
     "metadata": {},
     "output_type": "execute_result"
    }
   ],
   "source": [
    "arr9.ndim"
   ]
  },
  {
   "cell_type": "markdown",
   "id": "0b24cce6-c165-4fd8-82e1-4e1f4a6a1497",
   "metadata": {},
   "source": [
    "### 3. Size (Att)"
   ]
  },
  {
   "cell_type": "markdown",
   "id": "cc8f1f06-c1d2-4f98-9882-175187413a39",
   "metadata": {},
   "source": [
    "**Use to check number of the items**"
   ]
  },
  {
   "cell_type": "code",
   "execution_count": 21,
   "id": "baec8e0c-c57e-40fa-b958-6ccba40f222f",
   "metadata": {},
   "outputs": [
    {
     "data": {
      "text/plain": [
       "array([1, 2, 3, 4, 5, 5])"
      ]
     },
     "execution_count": 21,
     "metadata": {},
     "output_type": "execute_result"
    }
   ],
   "source": [
    "arr1"
   ]
  },
  {
   "cell_type": "code",
   "execution_count": 22,
   "id": "e5e598e7-2987-4616-be1c-35b36c8707b9",
   "metadata": {},
   "outputs": [
    {
     "data": {
      "text/plain": [
       "6"
      ]
     },
     "execution_count": 22,
     "metadata": {},
     "output_type": "execute_result"
    }
   ],
   "source": [
    "arr1.size"
   ]
  },
  {
   "cell_type": "code",
   "execution_count": 23,
   "id": "f2958deb-7e75-4f0c-bd26-b18cee12a40c",
   "metadata": {},
   "outputs": [
    {
     "data": {
      "text/plain": [
       "array([[1, 2, 3],\n",
       "       [4, 5, 6]])"
      ]
     },
     "execution_count": 23,
     "metadata": {},
     "output_type": "execute_result"
    }
   ],
   "source": [
    "arr2"
   ]
  },
  {
   "cell_type": "code",
   "execution_count": 24,
   "id": "607eb2ef-45cd-4124-9bd1-e3276ddba487",
   "metadata": {},
   "outputs": [
    {
     "data": {
      "text/plain": [
       "6"
      ]
     },
     "execution_count": 24,
     "metadata": {},
     "output_type": "execute_result"
    }
   ],
   "source": [
    "arr2.size"
   ]
  },
  {
   "cell_type": "code",
   "execution_count": 25,
   "id": "22719b32-f825-4225-aa46-54f0329e4d49",
   "metadata": {},
   "outputs": [
    {
     "data": {
      "text/plain": [
       "8"
      ]
     },
     "execution_count": 25,
     "metadata": {},
     "output_type": "execute_result"
    }
   ],
   "source": [
    "arr9.itemsize"
   ]
  },
  {
   "cell_type": "markdown",
   "id": "a3323524-a386-4d21-bc28-6c61f356ea5c",
   "metadata": {},
   "source": [
    "**Itemsize tells the memory occupied by the type of values in the array**"
   ]
  },
  {
   "cell_type": "markdown",
   "id": "d1b7d543-86c6-4f77-9fb3-0a7e0c066c6f",
   "metadata": {},
   "source": [
    "### 4. Dtype (Att)"
   ]
  },
  {
   "cell_type": "markdown",
   "id": "615a993e-16bc-4b56-be13-8f4d0cd3a0d5",
   "metadata": {},
   "source": [
    "**Tells the dimention type of the array elements**"
   ]
  },
  {
   "cell_type": "code",
   "execution_count": 26,
   "id": "6dc2a725-40a4-4b1f-b844-502131b8b3fc",
   "metadata": {},
   "outputs": [
    {
     "data": {
      "text/plain": [
       "array([[0., 0., 0.],\n",
       "       [0., 0., 0.]])"
      ]
     },
     "execution_count": 26,
     "metadata": {},
     "output_type": "execute_result"
    }
   ],
   "source": [
    "arr3"
   ]
  },
  {
   "cell_type": "code",
   "execution_count": 27,
   "id": "ca8c189f-b791-4f7d-8f9c-cae821e95555",
   "metadata": {},
   "outputs": [
    {
     "data": {
      "text/plain": [
       "dtype('float64')"
      ]
     },
     "execution_count": 27,
     "metadata": {},
     "output_type": "execute_result"
    }
   ],
   "source": [
    "arr3.dtype"
   ]
  },
  {
   "cell_type": "code",
   "execution_count": 28,
   "id": "0c6528e8-116e-46a6-b2fd-bdaa0803cb0b",
   "metadata": {},
   "outputs": [
    {
     "data": {
      "text/plain": [
       "array([[[1, 2],\n",
       "        [4, 5]],\n",
       "\n",
       "       [[5, 6],\n",
       "        [7, 8]]])"
      ]
     },
     "execution_count": 28,
     "metadata": {},
     "output_type": "execute_result"
    }
   ],
   "source": [
    "arr9"
   ]
  },
  {
   "cell_type": "code",
   "execution_count": 29,
   "id": "474a8e1e-378c-4431-8a48-77407d3c3d0d",
   "metadata": {},
   "outputs": [
    {
     "data": {
      "text/plain": [
       "dtype('int64')"
      ]
     },
     "execution_count": 29,
     "metadata": {},
     "output_type": "execute_result"
    }
   ],
   "source": [
    "arr9.dtype"
   ]
  },
  {
   "cell_type": "markdown",
   "id": "8ced3ec0-c8a1-4c1a-bd88-9af71fee1d0e",
   "metadata": {},
   "source": [
    "### 5. Astype() (Property)"
   ]
  },
  {
   "cell_type": "markdown",
   "id": "4fa1133d-4505-462d-b7f0-a10b387d8a0f",
   "metadata": {},
   "source": [
    "**This is used to convert any datatype into another**"
   ]
  },
  {
   "cell_type": "code",
   "execution_count": 30,
   "id": "4e1b26ec-a6b2-49fa-9e64-29306b5e5911",
   "metadata": {},
   "outputs": [
    {
     "data": {
      "text/plain": [
       "array([[[1, 2],\n",
       "        [4, 5]],\n",
       "\n",
       "       [[5, 6],\n",
       "        [7, 8]]])"
      ]
     },
     "execution_count": 30,
     "metadata": {},
     "output_type": "execute_result"
    }
   ],
   "source": [
    "arr9"
   ]
  },
  {
   "cell_type": "code",
   "execution_count": 31,
   "id": "134f7dc0-251d-4c22-bd5d-ed04689c1675",
   "metadata": {},
   "outputs": [
    {
     "data": {
      "text/plain": [
       "dtype('int64')"
      ]
     },
     "execution_count": 31,
     "metadata": {},
     "output_type": "execute_result"
    }
   ],
   "source": [
    "arr9.dtype"
   ]
  },
  {
   "cell_type": "code",
   "execution_count": 32,
   "id": "b1f496c8-5f10-4bd6-b296-b341160fcd7d",
   "metadata": {},
   "outputs": [],
   "source": [
    "# converting arr9 datatype into float\n",
    "\n",
    "arr9 = arr9.astype('float')"
   ]
  },
  {
   "cell_type": "code",
   "execution_count": 33,
   "id": "400f012d-42a6-4fc9-9e65-de385a94ce68",
   "metadata": {},
   "outputs": [
    {
     "data": {
      "text/plain": [
       "dtype('float64')"
      ]
     },
     "execution_count": 33,
     "metadata": {},
     "output_type": "execute_result"
    }
   ],
   "source": [
    "arr9.dtype"
   ]
  },
  {
   "cell_type": "markdown",
   "id": "b3efbf07-6073-4bf9-9a02-4b767526c376",
   "metadata": {},
   "source": [
    "# **Lists vs Arrays**"
   ]
  },
  {
   "cell_type": "markdown",
   "id": "bb0f1cea-18af-4e78-bdc3-206136fe3699",
   "metadata": {},
   "source": [
    "## 1. Lesser space than Lists"
   ]
  },
  {
   "cell_type": "code",
   "execution_count": 34,
   "id": "86471b46-c391-437a-bd6b-c8707be045c9",
   "metadata": {},
   "outputs": [],
   "source": [
    "import sys"
   ]
  },
  {
   "cell_type": "markdown",
   "id": "a054e574-3acc-4bca-b2ef-d31eb494ba6b",
   "metadata": {},
   "source": [
    "**It has a function getsizeof that returns the size of entered value**"
   ]
  },
  {
   "cell_type": "code",
   "execution_count": 35,
   "id": "9b66a105-95af-4be6-bd55-1ac17c135b67",
   "metadata": {},
   "outputs": [],
   "source": [
    "# create a list of 100 items and array of 100 items\n",
    "\n",
    "list1 = range(100)\n",
    "arr11 = np.arange(100)\n",
    "arr11 = arr11.astype('int')"
   ]
  },
  {
   "cell_type": "code",
   "execution_count": 36,
   "id": "709b2afd-24ed-42d2-a46e-99572c3c19cc",
   "metadata": {},
   "outputs": [
    {
     "name": "stdout",
     "output_type": "stream",
     "text": [
      "2800\n"
     ]
    }
   ],
   "source": [
    "# get size of 1 item between 1-100 and multiply with number of values\n",
    "\n",
    "print(sys.getsizeof(87)*len(list1))  "
   ]
  },
  {
   "cell_type": "code",
   "execution_count": 37,
   "id": "ecfd5f43-b6ad-411f-a4f5-f5a4d1a382be",
   "metadata": {},
   "outputs": [
    {
     "name": "stdout",
     "output_type": "stream",
     "text": [
      "800\n"
     ]
    }
   ],
   "source": [
    "# get size of one elemnt in array and multiply with total number of items\n",
    "\n",
    "print(arr11.itemsize * arr11.size)"
   ]
  },
  {
   "cell_type": "markdown",
   "id": "13362c8f-0978-4bc6-a2dc-c549e18043db",
   "metadata": {},
   "source": [
    "**As array takes 800bytes while list take 2800 bytes**"
   ]
  },
  {
   "cell_type": "markdown",
   "id": "b392a488-13c2-46a8-a382-11c126679cc1",
   "metadata": {},
   "source": [
    "## 2. Faster than list"
   ]
  },
  {
   "cell_type": "code",
   "execution_count": 38,
   "id": "759f833b-6dde-484f-8734-570cd913bcd8",
   "metadata": {},
   "outputs": [],
   "source": [
    "# import module that calculates the time of processing\n",
    "\n",
    "import time"
   ]
  },
  {
   "cell_type": "markdown",
   "id": "96cf0ef4-914d-45b8-8672-e30881796c46",
   "metadata": {},
   "source": [
    "#### For list"
   ]
  },
  {
   "cell_type": "code",
   "execution_count": 39,
   "id": "bf56f925-2b54-4813-9c94-6767eb6434c2",
   "metadata": {},
   "outputs": [
    {
     "name": "stdout",
     "output_type": "stream",
     "text": [
      "5.782847881317139\n"
     ]
    }
   ],
   "source": [
    "# Create two list x and y\n",
    "\n",
    "x = range(10000000)\n",
    "y = range(10000000,20000000)\n",
    "\n",
    "start_time_list = time.time()  # stores the current time\n",
    "\n",
    "# use zip function to pick elements of both list and add one by one and form new list\n",
    "\n",
    "z = [(x,y) for x,y in zip(x,y)]\n",
    "\n",
    "print(time.time() - start_time_list)  # subtract time taken from current time"
   ]
  },
  {
   "cell_type": "markdown",
   "id": "bafbfbe4-f61f-4cce-98e7-b2ffe417bf6d",
   "metadata": {},
   "source": [
    "#### For Array"
   ]
  },
  {
   "cell_type": "code",
   "execution_count": 40,
   "id": "b3706fa1-1987-426d-9c16-611fd6e13fc0",
   "metadata": {},
   "outputs": [
    {
     "name": "stdout",
     "output_type": "stream",
     "text": [
      "0.5245258808135986\n"
     ]
    }
   ],
   "source": [
    "# create two arrays a and b\n",
    "\n",
    "a = np.arange(10000000)\n",
    "b = np.arange(10000000,20000000)\n",
    "\n",
    "start_time_array = time.time()  # current time\n",
    "\n",
    "c = a + b  # Same as zip function\n",
    "\n",
    "print(time.time() - start_time_array)"
   ]
  },
  {
   "cell_type": "markdown",
   "id": "a49fc46f-de1f-4bb9-a18f-7fc1d24b934c",
   "metadata": {},
   "source": [
    "**From above result you can see that their is a time difference**"
   ]
  },
  {
   "cell_type": "markdown",
   "id": "1702b6ce-cf95-44fa-9166-33dbb73f9564",
   "metadata": {},
   "source": [
    "### Indexing "
   ]
  },
  {
   "cell_type": "code",
   "execution_count": 41,
   "id": "8824dd61-7e94-4c3a-90a6-20274ab27aa1",
   "metadata": {},
   "outputs": [
    {
     "data": {
      "text/plain": [
       "array([0, 1, 2, 3, 4, 5, 6, 7, 8, 9])"
      ]
     },
     "execution_count": 41,
     "metadata": {},
     "output_type": "execute_result"
    }
   ],
   "source": [
    "arr12 = np.arange(10)\n",
    "arr12"
   ]
  },
  {
   "cell_type": "code",
   "execution_count": 42,
   "id": "a0009dc4-733c-464d-a22e-0cfd5839a0a3",
   "metadata": {},
   "outputs": [
    {
     "data": {
      "text/plain": [
       "np.int64(5)"
      ]
     },
     "execution_count": 42,
     "metadata": {},
     "output_type": "execute_result"
    }
   ],
   "source": [
    "arr12[5]"
   ]
  },
  {
   "cell_type": "code",
   "execution_count": 43,
   "id": "2e22c320-da5c-4e5f-b8da-0a95e91a4276",
   "metadata": {},
   "outputs": [
    {
     "data": {
      "text/plain": [
       "np.int64(9)"
      ]
     },
     "execution_count": 43,
     "metadata": {},
     "output_type": "execute_result"
    }
   ],
   "source": [
    "arr12[-1] #negative indexing"
   ]
  },
  {
   "cell_type": "markdown",
   "id": "01763132-d5de-4add-a2d8-9a79184634f9",
   "metadata": {},
   "source": [
    "### Slicing"
   ]
  },
  {
   "cell_type": "code",
   "execution_count": 44,
   "id": "aa527a3d-b9b5-472e-adc8-3a79d19bfdf7",
   "metadata": {},
   "outputs": [
    {
     "data": {
      "text/plain": [
       "array([ 0,  1,  2,  3,  4,  5,  6,  7,  8,  9, 10, 11, 12, 13, 14, 15, 16,\n",
       "       17, 18, 19, 20, 21, 22, 23])"
      ]
     },
     "execution_count": 44,
     "metadata": {},
     "output_type": "execute_result"
    }
   ],
   "source": [
    "arr13 = np.arange(24)\n",
    "arr13"
   ]
  },
  {
   "cell_type": "markdown",
   "id": "50994290-9ab0-4469-ba3a-8662c17538b2",
   "metadata": {},
   "source": [
    "**Using reshape function to reshape the array if possible**"
   ]
  },
  {
   "cell_type": "code",
   "execution_count": 45,
   "id": "734a5f23-6da5-4d58-8450-6f3594849b90",
   "metadata": {},
   "outputs": [
    {
     "data": {
      "text/plain": [
       "array([[ 0,  1,  2,  3],\n",
       "       [ 4,  5,  6,  7],\n",
       "       [ 8,  9, 10, 11],\n",
       "       [12, 13, 14, 15],\n",
       "       [16, 17, 18, 19],\n",
       "       [20, 21, 22, 23]])"
      ]
     },
     "execution_count": 45,
     "metadata": {},
     "output_type": "execute_result"
    }
   ],
   "source": [
    "arr13 = arr13.reshape(6,4)\n",
    "arr13"
   ]
  },
  {
   "cell_type": "code",
   "execution_count": 46,
   "id": "da326661-8691-4500-acd1-71e20561f6cb",
   "metadata": {},
   "outputs": [
    {
     "data": {
      "text/plain": [
       "array([[ 0,  1,  2,  3],\n",
       "       [ 4,  5,  6,  7],\n",
       "       [ 8,  9, 10, 11]])"
      ]
     },
     "execution_count": 46,
     "metadata": {},
     "output_type": "execute_result"
    }
   ],
   "source": [
    "arr13[:3] #prints the first three rows"
   ]
  },
  {
   "cell_type": "code",
   "execution_count": 47,
   "id": "0fe77e56-34bb-4f48-9cd7-86523887c064",
   "metadata": {},
   "outputs": [
    {
     "data": {
      "text/plain": [
       "array([ 2,  6, 10, 14, 18, 22])"
      ]
     },
     "execution_count": 47,
     "metadata": {},
     "output_type": "execute_result"
    }
   ],
   "source": [
    "# to print the third coloum\n",
    "\n",
    "arr13[:,2]"
   ]
  },
  {
   "cell_type": "code",
   "execution_count": 48,
   "id": "911c1489-3af7-421a-88d7-fdc143b2af78",
   "metadata": {},
   "outputs": [
    {
     "data": {
      "text/plain": [
       "array([[ 9, 10],\n",
       "       [13, 14]])"
      ]
     },
     "execution_count": 48,
     "metadata": {},
     "output_type": "execute_result"
    }
   ],
   "source": [
    "# to extract 9 , 10 , 13 , 14\n",
    "\n",
    "arr13[2:4,1:3]"
   ]
  },
  {
   "cell_type": "code",
   "execution_count": 49,
   "id": "a57224f7-47d8-4ecc-85f8-bc74a220eb24",
   "metadata": {},
   "outputs": [
    {
     "data": {
      "text/plain": [
       "array([[18, 19],\n",
       "       [22, 23]])"
      ]
     },
     "execution_count": 49,
     "metadata": {},
     "output_type": "execute_result"
    }
   ],
   "source": [
    "# to extract 18 , 19 , 22 , 23\n",
    "\n",
    "arr13[4:,2:4]"
   ]
  },
  {
   "cell_type": "markdown",
   "id": "4bf7520a-7606-404a-9bab-cd7ec8adf63c",
   "metadata": {},
   "source": [
    "### Iteration"
   ]
  },
  {
   "cell_type": "code",
   "execution_count": 50,
   "id": "558472ee-129f-4a4e-babf-c09dd1e3d6f1",
   "metadata": {},
   "outputs": [
    {
     "data": {
      "text/plain": [
       "array([[ 0,  1,  2,  3],\n",
       "       [ 4,  5,  6,  7],\n",
       "       [ 8,  9, 10, 11],\n",
       "       [12, 13, 14, 15],\n",
       "       [16, 17, 18, 19],\n",
       "       [20, 21, 22, 23]])"
      ]
     },
     "execution_count": 50,
     "metadata": {},
     "output_type": "execute_result"
    }
   ],
   "source": [
    "arr13"
   ]
  },
  {
   "cell_type": "code",
   "execution_count": 51,
   "id": "472b6b87-61df-4e77-994c-78b11bef8bc3",
   "metadata": {},
   "outputs": [
    {
     "name": "stdout",
     "output_type": "stream",
     "text": [
      "0\n",
      "1\n",
      "2\n",
      "3\n",
      "4\n",
      "5\n",
      "6\n",
      "7\n",
      "8\n",
      "9\n",
      "10\n",
      "11\n",
      "12\n",
      "13\n",
      "14\n",
      "15\n",
      "16\n",
      "17\n",
      "18\n",
      "19\n",
      "20\n",
      "21\n",
      "22\n",
      "23\n"
     ]
    }
   ],
   "source": [
    "# this function gives us each element line by line\n",
    "\n",
    "for i in np.nditer(arr13):\n",
    "    print(i)"
   ]
  },
  {
   "cell_type": "markdown",
   "id": "0c4dccf7-d3c1-480f-81bb-b787d2e7317c",
   "metadata": {},
   "source": [
    "# Operations"
   ]
  },
  {
   "cell_type": "code",
   "execution_count": 52,
   "id": "88537fbd-02ec-4254-9739-c828cc333a2f",
   "metadata": {},
   "outputs": [],
   "source": [
    "import numpy as np"
   ]
  },
  {
   "cell_type": "markdown",
   "id": "d1176be6-f1a1-4e8c-b059-38b9f95899e5",
   "metadata": {},
   "source": [
    "### Addition"
   ]
  },
  {
   "cell_type": "code",
   "execution_count": 53,
   "id": "df19c89f-c838-459a-a49b-33b2a563036e",
   "metadata": {},
   "outputs": [
    {
     "data": {
      "text/plain": [
       "array([ 6,  8, 10, 12, 14, 16])"
      ]
     },
     "execution_count": 53,
     "metadata": {},
     "output_type": "execute_result"
    }
   ],
   "source": [
    "\n",
    "# create two arrays of same length and add\n",
    "\n",
    "array1 = np.arange(6)\n",
    "array2 = np.arange(6,12)\n",
    "\n",
    "array1 + array2"
   ]
  },
  {
   "cell_type": "markdown",
   "id": "3c808fa4-08a7-401a-99c7-cfa976474d48",
   "metadata": {},
   "source": [
    "### Substaction"
   ]
  },
  {
   "cell_type": "code",
   "execution_count": 54,
   "id": "28b70686-a6a0-4f61-a822-91a28e757743",
   "metadata": {},
   "outputs": [
    {
     "data": {
      "text/plain": [
       "array([-6, -6, -6, -6, -6, -6])"
      ]
     },
     "execution_count": 54,
     "metadata": {},
     "output_type": "execute_result"
    }
   ],
   "source": [
    "# create two arrays of same length and subtract\n",
    "\n",
    "array3 = np.arange(6)\n",
    "array4 = np.arange(6,12)\n",
    "\n",
    "array3 - array4"
   ]
  },
  {
   "cell_type": "markdown",
   "id": "8db7d39b-ca21-45b1-b3f6-2342d587282d",
   "metadata": {},
   "source": [
    "### Multiplication"
   ]
  },
  {
   "cell_type": "code",
   "execution_count": 55,
   "id": "68bdc6cf-a29f-40c0-9fbf-b6384ed347ea",
   "metadata": {},
   "outputs": [
    {
     "data": {
      "text/plain": [
       "array([ 0,  7, 16, 27, 40, 55])"
      ]
     },
     "execution_count": 55,
     "metadata": {},
     "output_type": "execute_result"
    }
   ],
   "source": [
    "# create two arrays of same length and multiply\n",
    "\n",
    "array5 = np.arange(6)\n",
    "array6 = np.arange(6,12)\n",
    "\n",
    "array5 * array6"
   ]
  },
  {
   "cell_type": "markdown",
   "id": "5bf1ab51-c4dc-4aaa-b6db-d1d9641f2b12",
   "metadata": {},
   "source": [
    "### Dot product (Matrix multiplication)"
   ]
  },
  {
   "cell_type": "code",
   "execution_count": 56,
   "id": "1b02807b-a886-4f57-b05b-81c243bac2d3",
   "metadata": {},
   "outputs": [
    {
     "data": {
      "text/plain": [
       "array([[ 9, 10, 11],\n",
       "       [39, 44, 49],\n",
       "       [69, 78, 87]])"
      ]
     },
     "execution_count": 56,
     "metadata": {},
     "output_type": "execute_result"
    }
   ],
   "source": [
    "# create two arrays and reshape accordingly\n",
    "\n",
    "array8 = np.arange(6).reshape(3,2)\n",
    "array9 = np.arange(6,12).reshape(2,3)\n",
    "\n",
    "array8.dot(array9)"
   ]
  },
  {
   "cell_type": "code",
   "execution_count": 57,
   "id": "4e5ebd52-b4a3-472f-a51b-150aff62d5bc",
   "metadata": {},
   "outputs": [
    {
     "data": {
      "text/plain": [
       "array([0, 1, 2, 3, 4, 5])"
      ]
     },
     "execution_count": 57,
     "metadata": {},
     "output_type": "execute_result"
    }
   ],
   "source": [
    "array1"
   ]
  },
  {
   "cell_type": "markdown",
   "id": "f566ae0e-3cde-40c0-9686-cf207d955b5e",
   "metadata": {},
   "source": [
    "### greater than or less than"
   ]
  },
  {
   "cell_type": "code",
   "execution_count": 58,
   "id": "2582ea63-98e6-4c1a-8384-37c070e33d29",
   "metadata": {},
   "outputs": [
    {
     "data": {
      "text/plain": [
       "array([False, False, False, False,  True,  True])"
      ]
     },
     "execution_count": 58,
     "metadata": {},
     "output_type": "execute_result"
    }
   ],
   "source": [
    "# This returns an array of boolean values \n",
    "# True if condition satisfies and false if not\n",
    "\n",
    "array1>3"
   ]
  },
  {
   "cell_type": "markdown",
   "id": "29599473-846a-4faf-9f59-50dce55649ed",
   "metadata": {},
   "source": [
    "### Max and Min"
   ]
  },
  {
   "cell_type": "code",
   "execution_count": 59,
   "id": "bd7308f3-771b-4612-9d35-77d2a73acbfb",
   "metadata": {},
   "outputs": [
    {
     "data": {
      "text/plain": [
       "array([[2, 3],\n",
       "       [4, 5],\n",
       "       [6, 7],\n",
       "       [8, 9]])"
      ]
     },
     "execution_count": 59,
     "metadata": {},
     "output_type": "execute_result"
    }
   ],
   "source": [
    "array10 = np.arange(2,10).reshape(4,2)\n",
    "array10"
   ]
  },
  {
   "cell_type": "code",
   "execution_count": 60,
   "id": "96545ede-8a1e-40b3-adba-1d48b49b9e0b",
   "metadata": {},
   "outputs": [
    {
     "data": {
      "text/plain": [
       "np.int64(2)"
      ]
     },
     "execution_count": 60,
     "metadata": {},
     "output_type": "execute_result"
    }
   ],
   "source": [
    "# To find the max and min of above\n",
    "\n",
    "array10.min()"
   ]
  },
  {
   "cell_type": "code",
   "execution_count": 61,
   "id": "234ddaf3-0b2d-4351-841b-c2d8a37e3187",
   "metadata": {},
   "outputs": [
    {
     "data": {
      "text/plain": [
       "np.int64(9)"
      ]
     },
     "execution_count": 61,
     "metadata": {},
     "output_type": "execute_result"
    }
   ],
   "source": [
    "array10.max()"
   ]
  },
  {
   "cell_type": "markdown",
   "id": "7e69cf76-c809-45f3-97e5-0ee5b9125c4b",
   "metadata": {},
   "source": [
    "**We can also find max min axis wise**"
   ]
  },
  {
   "cell_type": "code",
   "execution_count": 62,
   "id": "3252698a-f298-4aff-8f35-4d70771208ba",
   "metadata": {},
   "outputs": [
    {
     "data": {
      "text/plain": [
       "array([2, 3])"
      ]
     },
     "execution_count": 62,
     "metadata": {},
     "output_type": "execute_result"
    }
   ],
   "source": [
    "# The axis 0 gives output coloumn wise while axis 1 gives output row wise\n",
    "\n",
    "array10.min(axis=0)"
   ]
  },
  {
   "cell_type": "code",
   "execution_count": 63,
   "id": "c808fdaa-fb73-4e48-834c-dc40d527103f",
   "metadata": {},
   "outputs": [
    {
     "data": {
      "text/plain": [
       "array([3, 5, 7, 9])"
      ]
     },
     "execution_count": 63,
     "metadata": {},
     "output_type": "execute_result"
    }
   ],
   "source": [
    "array10.max(axis=1)"
   ]
  },
  {
   "cell_type": "markdown",
   "id": "6a93bd29-447d-45e9-ae25-6e97b6b4a575",
   "metadata": {},
   "source": [
    "### Sum"
   ]
  },
  {
   "cell_type": "code",
   "execution_count": 64,
   "id": "8e068ccb-2031-4bf9-9b4a-2cd9d2172e84",
   "metadata": {},
   "outputs": [
    {
     "data": {
      "text/plain": [
       "np.int64(90)"
      ]
     },
     "execution_count": 64,
     "metadata": {},
     "output_type": "execute_result"
    }
   ],
   "source": [
    "# Calculates the sum of all the values\n",
    "\n",
    "array11 = np.arange(6,15)\n",
    "array11.sum()"
   ]
  },
  {
   "cell_type": "markdown",
   "id": "417e5954-770a-4332-b617-1a3749bf740d",
   "metadata": {},
   "source": [
    "**It also supports sum based on axis**"
   ]
  },
  {
   "cell_type": "code",
   "execution_count": 65,
   "id": "a052489e-01fc-4e3d-9f62-f8379075e7f7",
   "metadata": {},
   "outputs": [
    {
     "data": {
      "text/plain": [
       "array([1, 5, 9])"
      ]
     },
     "execution_count": 65,
     "metadata": {},
     "output_type": "execute_result"
    }
   ],
   "source": [
    "array12= np.arange(6).reshape(3,2)\n",
    "array12.sum(axis=1)"
   ]
  },
  {
   "cell_type": "markdown",
   "id": "af437954-a4f5-4ed2-897f-e0208b47b4b5",
   "metadata": {},
   "source": [
    "### Mean , StandarDeviation , Median"
   ]
  },
  {
   "cell_type": "code",
   "execution_count": 66,
   "id": "923ae511-a398-4215-9b8a-e9e2e350c5ea",
   "metadata": {},
   "outputs": [
    {
     "data": {
      "text/plain": [
       "np.float64(4.5)"
      ]
     },
     "execution_count": 66,
     "metadata": {},
     "output_type": "execute_result"
    }
   ],
   "source": [
    "# Mean\n",
    "\n",
    "array13 = np.arange(10)\n",
    "array13.mean()"
   ]
  },
  {
   "cell_type": "code",
   "execution_count": 67,
   "id": "f7a7f9e7-5e0b-4a7a-92c5-66a879062147",
   "metadata": {},
   "outputs": [
    {
     "data": {
      "text/plain": [
       "np.float64(4.5)"
      ]
     },
     "execution_count": 67,
     "metadata": {},
     "output_type": "execute_result"
    }
   ],
   "source": [
    "# Median\n",
    "\n",
    "np.median(array13)"
   ]
  },
  {
   "cell_type": "code",
   "execution_count": 68,
   "id": "7bdaef20-aa3b-4259-83be-c43ba24af5d1",
   "metadata": {},
   "outputs": [
    {
     "data": {
      "text/plain": [
       "np.float64(2.8722813232690143)"
      ]
     },
     "execution_count": 68,
     "metadata": {},
     "output_type": "execute_result"
    }
   ],
   "source": [
    "# Standard Deviation\n",
    "\n",
    "np.std(array13)"
   ]
  },
  {
   "cell_type": "markdown",
   "id": "41d8fc55-f801-4261-b35a-65ebf6391a53",
   "metadata": {},
   "source": [
    "### Exponent"
   ]
  },
  {
   "cell_type": "code",
   "execution_count": 69,
   "id": "49db2d24-9481-4301-aacb-6261fc4f2196",
   "metadata": {},
   "outputs": [
    {
     "data": {
      "text/plain": [
       "array([[1.00000000e+00, 2.71828183e+00, 7.38905610e+00, 2.00855369e+01,\n",
       "        5.45981500e+01],\n",
       "       [1.48413159e+02, 4.03428793e+02, 1.09663316e+03, 2.98095799e+03,\n",
       "        8.10308393e+03]])"
      ]
     },
     "execution_count": 69,
     "metadata": {},
     "output_type": "execute_result"
    }
   ],
   "source": [
    "array15 = np.arange(10).reshape(2,5)\n",
    "np.exp(array15)\n"
   ]
  },
  {
   "cell_type": "markdown",
   "id": "d40435f2-8e1e-4065-82a5-2a9b9557984c",
   "metadata": {},
   "source": [
    "### Reshaping Numpy arrays"
   ]
  },
  {
   "cell_type": "markdown",
   "id": "d0776610-9f7d-4818-ab70-f8e069f2ceb2",
   "metadata": {},
   "source": [
    "#### 1 **Ravel function used to bring any dimention to 1D**"
   ]
  },
  {
   "cell_type": "code",
   "execution_count": 70,
   "id": "ef5684ef-a46f-4984-ba07-a42a03607c3f",
   "metadata": {},
   "outputs": [
    {
     "data": {
      "text/plain": [
       "array([[0, 1, 2],\n",
       "       [3, 4, 5]])"
      ]
     },
     "execution_count": 70,
     "metadata": {},
     "output_type": "execute_result"
    }
   ],
   "source": [
    "# create an array with more than one dimention\n",
    "\n",
    "a = np.arange(6).reshape(2,3)\n",
    "a"
   ]
  },
  {
   "cell_type": "code",
   "execution_count": 71,
   "id": "b39049df-8763-43a4-936e-6993e78eba71",
   "metadata": {},
   "outputs": [
    {
     "data": {
      "text/plain": [
       "array([0, 1, 2, 3, 4, 5])"
      ]
     },
     "execution_count": 71,
     "metadata": {},
     "output_type": "execute_result"
    }
   ],
   "source": [
    "# Use ravel function to bring to 1D\n",
    "\n",
    "a.ravel()"
   ]
  },
  {
   "cell_type": "markdown",
   "id": "a5937318-960d-4d43-a3c3-03997788bbc0",
   "metadata": {},
   "source": [
    "#### 2 **Transpose** It converts columns to rows "
   ]
  },
  {
   "cell_type": "markdown",
   "id": "38a3e210-86d1-4e0b-88ee-589f5678de34",
   "metadata": {},
   "source": [
    "a"
   ]
  },
  {
   "cell_type": "code",
   "execution_count": 72,
   "id": "7d70aeca-7f6f-41ed-8767-187a11b3efe1",
   "metadata": {},
   "outputs": [
    {
     "data": {
      "text/plain": [
       "array([[0, 3],\n",
       "       [1, 4],\n",
       "       [2, 5]])"
      ]
     },
     "execution_count": 72,
     "metadata": {},
     "output_type": "execute_result"
    }
   ],
   "source": [
    "a.transpose()"
   ]
  },
  {
   "cell_type": "markdown",
   "id": "8190012c-6895-4312-8494-62f925146519",
   "metadata": {},
   "source": [
    "#### 3 **Stacking** It combines two arrays"
   ]
  },
  {
   "cell_type": "markdown",
   "id": "4f20bf38-39cb-4f86-b98c-14ac09eac14c",
   "metadata": {},
   "source": [
    "##### Horizontal stack"
   ]
  },
  {
   "cell_type": "code",
   "execution_count": 73,
   "id": "cd532dab-01c4-4601-80d5-374c64849ea5",
   "metadata": {},
   "outputs": [
    {
     "data": {
      "text/plain": [
       "array([[0, 1, 2],\n",
       "       [3, 4, 5]])"
      ]
     },
     "execution_count": 73,
     "metadata": {},
     "output_type": "execute_result"
    }
   ],
   "source": [
    "a1 = np.arange(6).reshape(2,3)\n",
    "a1"
   ]
  },
  {
   "cell_type": "code",
   "execution_count": 74,
   "id": "d81d02e2-db55-46db-b1b8-f2b8d75cdd6a",
   "metadata": {},
   "outputs": [
    {
     "data": {
      "text/plain": [
       "array([[ 6,  7,  8],\n",
       "       [ 9, 10, 11]])"
      ]
     },
     "execution_count": 74,
     "metadata": {},
     "output_type": "execute_result"
    }
   ],
   "source": [
    "a2 =  np.arange(6,12).reshape(2,3)\n",
    "a2"
   ]
  },
  {
   "cell_type": "code",
   "execution_count": 75,
   "id": "20eff24a-38cd-4032-bd6a-cfd519868cf4",
   "metadata": {},
   "outputs": [
    {
     "data": {
      "text/plain": [
       "array([[ 0,  1,  2,  6,  7,  8],\n",
       "       [ 3,  4,  5,  9, 10, 11]])"
      ]
     },
     "execution_count": 75,
     "metadata": {},
     "output_type": "execute_result"
    }
   ],
   "source": [
    "np.hstack((a1,a2))"
   ]
  },
  {
   "cell_type": "markdown",
   "id": "0ff2c8ca-762d-406b-a520-53dd79deb15d",
   "metadata": {},
   "source": [
    "##### Vertical stack"
   ]
  },
  {
   "cell_type": "code",
   "execution_count": 76,
   "id": "5b978c4f-ddf7-463b-a1d5-09c0410cd3a7",
   "metadata": {},
   "outputs": [
    {
     "data": {
      "text/plain": [
       "array([[0, 1, 2],\n",
       "       [3, 4, 5]])"
      ]
     },
     "execution_count": 76,
     "metadata": {},
     "output_type": "execute_result"
    }
   ],
   "source": [
    "a1"
   ]
  },
  {
   "cell_type": "code",
   "execution_count": 77,
   "id": "0f80ba08-02f0-4703-b387-d31b7d251be0",
   "metadata": {},
   "outputs": [
    {
     "data": {
      "text/plain": [
       "array([[ 6,  7,  8],\n",
       "       [ 9, 10, 11]])"
      ]
     },
     "execution_count": 77,
     "metadata": {},
     "output_type": "execute_result"
    }
   ],
   "source": [
    "a2"
   ]
  },
  {
   "cell_type": "code",
   "execution_count": 78,
   "id": "14bccbb8-576a-4e24-8798-a856b8d47136",
   "metadata": {},
   "outputs": [
    {
     "data": {
      "text/plain": [
       "array([[ 0,  1,  2],\n",
       "       [ 3,  4,  5],\n",
       "       [ 6,  7,  8],\n",
       "       [ 9, 10, 11]])"
      ]
     },
     "execution_count": 78,
     "metadata": {},
     "output_type": "execute_result"
    }
   ],
   "source": [
    "np.vstack((a1,a2))"
   ]
  },
  {
   "cell_type": "markdown",
   "id": "cb0bbe3e-45ed-4c7e-ad0c-9142e3f38846",
   "metadata": {},
   "source": [
    "### 4 **Splitting** it requires two parameters"
   ]
  },
  {
   "cell_type": "code",
   "execution_count": 79,
   "id": "6ff3d9a3-c14c-46f0-8552-f3d5b088e3ec",
   "metadata": {},
   "outputs": [
    {
     "data": {
      "text/plain": [
       "array([[0, 1, 2, 3, 4],\n",
       "       [5, 6, 7, 8, 9]])"
      ]
     },
     "execution_count": 79,
     "metadata": {},
     "output_type": "execute_result"
    }
   ],
   "source": [
    "arr20 = np.arange(10).reshape(2,5)\n",
    "arr20"
   ]
  },
  {
   "cell_type": "markdown",
   "id": "5ba91966-ab7c-482e-9e0e-96ac8bd5a4be",
   "metadata": {},
   "source": [
    "#### Vertical split (Splits vertically. For ex if two rows then two splits) "
   ]
  },
  {
   "cell_type": "code",
   "execution_count": 80,
   "id": "40e300cc-8ca2-4649-bd55-7f3a4aec5246",
   "metadata": {},
   "outputs": [
    {
     "data": {
      "text/plain": [
       "[array([[0, 1, 2, 3, 4]]), array([[5, 6, 7, 8, 9]])]"
      ]
     },
     "execution_count": 80,
     "metadata": {},
     "output_type": "execute_result"
    }
   ],
   "source": [
    "np.vsplit(arr20,2)"
   ]
  },
  {
   "cell_type": "markdown",
   "id": "b35fc168-5e34-42eb-b695-57927a61b9f9",
   "metadata": {},
   "source": [
    "#### horizontal split (Splits horizontally. For ex if five cols then five splits) "
   ]
  },
  {
   "cell_type": "code",
   "execution_count": 81,
   "id": "42da388f-6af8-4dd9-b946-e9ee2bb03e2c",
   "metadata": {},
   "outputs": [
    {
     "data": {
      "text/plain": [
       "[array([[0],\n",
       "        [5]]),\n",
       " array([[1],\n",
       "        [6]]),\n",
       " array([[2],\n",
       "        [7]]),\n",
       " array([[3],\n",
       "        [8]]),\n",
       " array([[4],\n",
       "        [9]])]"
      ]
     },
     "execution_count": 81,
     "metadata": {},
     "output_type": "execute_result"
    }
   ],
   "source": [
    "np.hsplit(arr20,5)"
   ]
  },
  {
   "cell_type": "markdown",
   "id": "ddc31d0d-06b8-42cd-9250-4618af6e5cfd",
   "metadata": {},
   "source": [
    "**It also works for single dimention arrays but only hsplit**"
   ]
  },
  {
   "cell_type": "code",
   "execution_count": 82,
   "id": "238239d1-9685-46d7-9c5e-4ac8c2a51d45",
   "metadata": {},
   "outputs": [
    {
     "data": {
      "text/plain": [
       "[array([0]), array([1]), array([2]), array([3]), array([4]), array([5])]"
      ]
     },
     "execution_count": 82,
     "metadata": {},
     "output_type": "execute_result"
    }
   ],
   "source": [
    "arr21 = np.arange(6)\n",
    "np.hsplit(arr21,6)"
   ]
  },
  {
   "cell_type": "markdown",
   "id": "c12c4c1e-77c1-4f54-8fc7-bf52734eaf9c",
   "metadata": {},
   "source": [
    "### Fancy Indexing "
   ]
  },
  {
   "cell_type": "markdown",
   "id": "679bdd4f-07a0-47e3-9906-fcb951da4d05",
   "metadata": {},
   "source": [
    "**It is used retreive the values that are discontinous**"
   ]
  },
  {
   "cell_type": "code",
   "execution_count": 83,
   "id": "41ba48d7-217a-4805-8f98-38e1598252d6",
   "metadata": {},
   "outputs": [
    {
     "data": {
      "text/plain": [
       "array([[ 0,  1,  2,  3],\n",
       "       [ 4,  5,  6,  7],\n",
       "       [ 8,  9, 10, 11],\n",
       "       [12, 13, 14, 15],\n",
       "       [16, 17, 18, 19],\n",
       "       [20, 21, 22, 23]])"
      ]
     },
     "execution_count": 83,
     "metadata": {},
     "output_type": "execute_result"
    }
   ],
   "source": [
    "a10 = np.arange(24).reshape(6,4)\n",
    "a10"
   ]
  },
  {
   "cell_type": "code",
   "execution_count": 84,
   "id": "f979a013-b839-46bb-890e-3e20fd9556a1",
   "metadata": {},
   "outputs": [
    {
     "data": {
      "text/plain": [
       "array([[ 0,  1,  2,  3],\n",
       "       [ 8,  9, 10, 11],\n",
       "       [16, 17, 18, 19]])"
      ]
     },
     "execution_count": 84,
     "metadata": {},
     "output_type": "execute_result"
    }
   ],
   "source": [
    "# We want the data of first , third and fifth row\n",
    "\n",
    "a10[[0,2,4]]"
   ]
  },
  {
   "cell_type": "markdown",
   "id": "358aca9b-bebb-4771-a0cb-7ea4256e51bf",
   "metadata": {},
   "source": [
    "### Array generation using Random function"
   ]
  },
  {
   "cell_type": "code",
   "execution_count": 85,
   "id": "d8871b99-7e52-4e56-ab16-6db242f03e9d",
   "metadata": {},
   "outputs": [
    {
     "data": {
      "text/plain": [
       "array([[89, 24, 46, 39],\n",
       "       [51, 21, 21, 81],\n",
       "       [44, 94, 36, 58],\n",
       "       [42, 73, 43, 59],\n",
       "       [75,  6, 42, 95]], dtype=int32)"
      ]
     },
     "execution_count": 85,
     "metadata": {},
     "output_type": "execute_result"
    }
   ],
   "source": [
    "# Take low and high value as required and set the size (how many values you want)\n",
    "\n",
    "a11 = np.random.randint(low = 1, high = 100, size = 20).reshape(5,4)\n",
    "a11"
   ]
  },
  {
   "cell_type": "code",
   "execution_count": 87,
   "id": "b70e5f9a-45bb-45e9-a92c-923db925df3e",
   "metadata": {},
   "outputs": [
    {
     "data": {
      "text/plain": [
       "array([[ True, False, False, False],\n",
       "       [ True, False, False,  True],\n",
       "       [False,  True, False,  True],\n",
       "       [False,  True, False,  True],\n",
       "       [ True, False, False,  True]])"
      ]
     },
     "execution_count": 87,
     "metadata": {},
     "output_type": "execute_result"
    }
   ],
   "source": [
    "### Conditional Indexing (Filtering)\n",
    "\n",
    "a11>50   # This will return array with same hape but with boolean values"
   ]
  },
  {
   "cell_type": "code",
   "execution_count": 89,
   "id": "f154a872-9a0c-4d2d-92dc-5aea9908b2a6",
   "metadata": {},
   "outputs": [
    {
     "data": {
      "text/plain": [
       "array([89, 51, 81, 94, 58, 73, 59, 75, 95], dtype=int32)"
      ]
     },
     "execution_count": 89,
     "metadata": {},
     "output_type": "execute_result"
    }
   ],
   "source": [
    "# This will provide us with every element that satisfies the condition\n",
    "\n",
    "a11[a11>50]"
   ]
  },
  {
   "cell_type": "code",
   "execution_count": 90,
   "id": "edcab8c4-07e3-441d-a21d-fb5ec919b610",
   "metadata": {},
   "outputs": [
    {
     "data": {
      "text/plain": [
       "20"
      ]
     },
     "execution_count": 90,
     "metadata": {},
     "output_type": "execute_result"
    }
   ],
   "source": [
    "a11.size"
   ]
  },
  {
   "cell_type": "code",
   "execution_count": 91,
   "id": "0d1a4d88-ce66-4bf4-975f-12b6ca0aa419",
   "metadata": {},
   "outputs": [
    {
     "data": {
      "text/plain": [
       "array([46, 44, 94, 58, 42, 42], dtype=int32)"
      ]
     },
     "execution_count": 91,
     "metadata": {},
     "output_type": "execute_result"
    }
   ],
   "source": [
    "a11[(a11>40) & (a11%2==0)]"
   ]
  },
  {
   "cell_type": "markdown",
   "id": "9efdf110-5731-4167-8c9b-7f5f777b7433",
   "metadata": {},
   "source": [
    "## Plotting graphs using Numpy"
   ]
  },
  {
   "cell_type": "code",
   "execution_count": 92,
   "id": "7ebe61d5-7ee5-4b7e-8a32-c8ed4ac25572",
   "metadata": {},
   "outputs": [
    {
     "data": {
      "text/plain": [
       "100"
      ]
     },
     "execution_count": 92,
     "metadata": {},
     "output_type": "execute_result"
    }
   ],
   "source": [
    "x = np.linspace(-40,40,100)\n",
    "x.size"
   ]
  },
  {
   "cell_type": "code",
   "execution_count": 93,
   "id": "3b68bb01-c5ec-4baf-be59-d1e24b210fcf",
   "metadata": {},
   "outputs": [
    {
     "data": {
      "text/plain": [
       "array([-40.        , -39.19191919, -38.38383838, -37.57575758,\n",
       "       -36.76767677, -35.95959596, -35.15151515, -34.34343434,\n",
       "       -33.53535354, -32.72727273, -31.91919192, -31.11111111,\n",
       "       -30.3030303 , -29.49494949, -28.68686869, -27.87878788,\n",
       "       -27.07070707, -26.26262626, -25.45454545, -24.64646465,\n",
       "       -23.83838384, -23.03030303, -22.22222222, -21.41414141,\n",
       "       -20.60606061, -19.7979798 , -18.98989899, -18.18181818,\n",
       "       -17.37373737, -16.56565657, -15.75757576, -14.94949495,\n",
       "       -14.14141414, -13.33333333, -12.52525253, -11.71717172,\n",
       "       -10.90909091, -10.1010101 ,  -9.29292929,  -8.48484848,\n",
       "        -7.67676768,  -6.86868687,  -6.06060606,  -5.25252525,\n",
       "        -4.44444444,  -3.63636364,  -2.82828283,  -2.02020202,\n",
       "        -1.21212121,  -0.4040404 ,   0.4040404 ,   1.21212121,\n",
       "         2.02020202,   2.82828283,   3.63636364,   4.44444444,\n",
       "         5.25252525,   6.06060606,   6.86868687,   7.67676768,\n",
       "         8.48484848,   9.29292929,  10.1010101 ,  10.90909091,\n",
       "        11.71717172,  12.52525253,  13.33333333,  14.14141414,\n",
       "        14.94949495,  15.75757576,  16.56565657,  17.37373737,\n",
       "        18.18181818,  18.98989899,  19.7979798 ,  20.60606061,\n",
       "        21.41414141,  22.22222222,  23.03030303,  23.83838384,\n",
       "        24.64646465,  25.45454545,  26.26262626,  27.07070707,\n",
       "        27.87878788,  28.68686869,  29.49494949,  30.3030303 ,\n",
       "        31.11111111,  31.91919192,  32.72727273,  33.53535354,\n",
       "        34.34343434,  35.15151515,  35.95959596,  36.76767677,\n",
       "        37.57575758,  38.38383838,  39.19191919,  40.        ])"
      ]
     },
     "execution_count": 93,
     "metadata": {},
     "output_type": "execute_result"
    }
   ],
   "source": [
    "x"
   ]
  },
  {
   "cell_type": "markdown",
   "id": "aaabf050-5e4c-4c4d-bc9a-a86812e0fa72",
   "metadata": {},
   "source": [
    "y = np.sin(x)\n",
    "y"
   ]
  },
  {
   "cell_type": "code",
   "execution_count": 95,
   "id": "d018c5b6-048a-48e7-8701-0b06494116c6",
   "metadata": {},
   "outputs": [
    {
     "data": {
      "text/plain": [
       "100"
      ]
     },
     "execution_count": 95,
     "metadata": {},
     "output_type": "execute_result"
    }
   ],
   "source": [
    "y.size"
   ]
  },
  {
   "cell_type": "markdown",
   "id": "fc9653c8-ef70-48af-b9e7-06392826909a",
   "metadata": {},
   "source": [
    "**Now we will import matplotlib library to plot graphs**"
   ]
  },
  {
   "cell_type": "code",
   "execution_count": 112,
   "id": "c0eb0518-72aa-46c5-af4e-b638cb28ce8f",
   "metadata": {},
   "outputs": [],
   "source": [
    "import matplotlib.pyplot as plt\n",
    "%matplotlib inline"
   ]
  },
  {
   "cell_type": "markdown",
   "id": "d8b6b093-0a43-487a-8dba-57e291bc6530",
   "metadata": {},
   "source": [
    "###### **The line above is used to pause the output on the screen**"
   ]
  },
  {
   "cell_type": "code",
   "execution_count": 111,
   "id": "037433e1-8fd3-4283-aad8-5742bf02635f",
   "metadata": {},
   "outputs": [
    {
     "data": {
      "image/png": "[encoded data removed]",
      "text/plain": [
       "<Figure size 640x480 with 1 Axes>"
      ]
     },
     "metadata": {},
     "output_type": "display_data"
    }
   ],
   "source": [
    "# Now we will plot the graph\n",
    "\n",
    "plt.plot(x,y)\n",
    "plt.pause(0.1)"
   ]
  },
  {
   "cell_type": "code",
   "execution_count": 113,
   "id": "08a694f6-7c3c-4e3a-8ca6-62cbf791babd",
   "metadata": {},
   "outputs": [
    {
     "data": {
      "image/png": "[encoded data removed]",
      "text/plain": [
       "<Figure size 640x480 with 1 Axes>"
      ]
     },
     "metadata": {},
     "output_type": "display_data"
    }
   ],
   "source": [
    "# We will plot other graph\n",
    "\n",
    "y1 = x*x + 2*x + 6\n",
    "\n",
    "plt.plot(x,y1)\n",
    "plt.pause(0.1)"
   ]
  },
  {
   "cell_type": "markdown",
   "id": "f8313501-07a7-4be1-b209-885b8ee92fc5",
   "metadata": {},
   "source": [
    "## **Broadcasting**"
   ]
  },
  {
   "cell_type": "markdown",
   "id": "1f8f90be-d1d7-402d-bd14-0b549a0c47ba",
   "metadata": {},
   "source": [
    "**It is a technique offered by the numpy library which is used to perform mathematical operations on arrays that are not similar in shape**"
   ]
  },
  {
   "cell_type": "markdown",
   "id": "a9435b75-8318-4cda-bdf6-69c27d2ee0c2",
   "metadata": {},
   "source": [
    "#### Rules"
   ]
  },
  {
   "cell_type": "code",
   "execution_count": 115,
   "id": "3e5c0b0f-3057-496c-a512-58377be15e8d",
   "metadata": {},
   "outputs": [
    {
     "data": {
      "text/plain": [
       "array([[ 0,  2,  4,  6,  8, 10, 12, 14],\n",
       "       [ 8, 10, 12, 14, 16, 18, 20, 22]])"
      ]
     },
     "execution_count": 115,
     "metadata": {},
     "output_type": "execute_result"
    }
   ],
   "source": [
    "# If one of the array has 1 then check for equal value to its correspoding in both arrays. If equal then it will execute\n",
    "\n",
    "x5 = np.arange(8)\n",
    "x5.ravel() \n",
    "x6 = np.arange(16).reshape(2,8)\n",
    "\n",
    "x5+x6"
   ]
  },
  {
   "cell_type": "code",
   "execution_count": 117,
   "id": "5e78bcfb-4310-468a-8f74-36289caa6c75",
   "metadata": {},
   "outputs": [
    {
     "ename": "ValueError",
     "evalue": "operands could not be broadcast together with shapes (8,) (2,7) ",
     "output_type": "error",
     "traceback": [
      "\u001b[1;31m---------------------------------------------------------------------------\u001b[0m",
      "\u001b[1;31mValueError\u001b[0m                                Traceback (most recent call last)",
      "Cell \u001b[1;32mIn[117], line 7\u001b[0m\n\u001b[0;32m      4\u001b[0m x2\u001b[38;5;241m.\u001b[39mravel() \n\u001b[0;32m      5\u001b[0m x3 \u001b[38;5;241m=\u001b[39m np\u001b[38;5;241m.\u001b[39marange(\u001b[38;5;241m14\u001b[39m)\u001b[38;5;241m.\u001b[39mreshape(\u001b[38;5;241m2\u001b[39m,\u001b[38;5;241m7\u001b[39m)\n\u001b[1;32m----> 7\u001b[0m x2\u001b[38;5;241m+\u001b[39mx3\n",
      "\u001b[1;31mValueError\u001b[0m: operands could not be broadcast together with shapes (8,) (2,7) "
     ]
    }
   ],
   "source": [
    "# If one of the array has 1 then check for equal value to its correspoding in both arrays. If not then error\n",
    "\n",
    "x2 = np.arange(8)\n",
    "x2.ravel() \n",
    "x3 = np.arange(14).reshape(2,7)\n",
    "\n",
    "x2+x3"
   ]
  },
  {
   "cell_type": "code",
   "execution_count": 118,
   "id": "47593417-3afe-4904-a8ef-97ff8362174f",
   "metadata": {},
   "outputs": [
    {
     "data": {
      "text/plain": [
       "array([[ 1,  2,  3,  4,  5,  6,  7,  8],\n",
       "       [ 9, 10, 11, 12, 13, 14, 15, 16]])"
      ]
     },
     "execution_count": 118,
     "metadata": {},
     "output_type": "execute_result"
    }
   ],
   "source": [
    "# If one of the array has both 1 as shape then it will execute no matter what\n",
    "\n",
    "x1 = np.array([1]).reshape(1,1)\n",
    "x4 = np.arange(16).reshape(2,8)\n",
    "\n",
    "x1+x4"
   ]
  },
  {
   "cell_type": "code",
   "execution_count": 122,
   "id": "3bf07f05-672e-422b-b16b-c1d822fa6c7d",
   "metadata": {},
   "outputs": [
    {
     "data": {
      "text/plain": [
       "array([[0, 1, 2, 3],\n",
       "       [1, 2, 3, 4],\n",
       "       [2, 3, 4, 5],\n",
       "       [3, 4, 5, 6]])"
      ]
     },
     "execution_count": 122,
     "metadata": {},
     "output_type": "execute_result"
    }
   ],
   "source": [
    "# If both of the array has one 1 as shape then it will execute\n",
    "\n",
    "x7 = np.arange(4).reshape(1,4)\n",
    "x8 = np.arange(4).reshape(4,1)\n",
    "\n",
    "x7+x8"
   ]
  },
  {
   "cell_type": "markdown",
   "id": "c4e2ae94-aa0d-4c7c-ac08-ea0111b4283d",
   "metadata": {},
   "source": [
    "# Some Important Functions"
   ]
  },
  {
   "cell_type": "markdown",
   "id": "4451234d-4067-4632-ace8-b5114bc90ff4",
   "metadata": {},
   "source": [
    "### 1. Random Function"
   ]
  },
  {
   "cell_type": "code",
   "execution_count": 124,
   "id": "a04049f2-6904-491b-a681-1c6d83e78141",
   "metadata": {},
   "outputs": [
    {
     "data": {
      "text/plain": [
       "0.6828983482525434"
      ]
     },
     "execution_count": 124,
     "metadata": {},
     "output_type": "execute_result"
    }
   ],
   "source": [
    "# It generates any floating point number randomly\n",
    "\n",
    "p = np.random.random()\n",
    "p"
   ]
  },
  {
   "cell_type": "markdown",
   "id": "c4e1a55c-47f8-464a-ad53-84c5ba3b41fb",
   "metadata": {},
   "source": [
    "**If you want same random value again and again then use SEED function**"
   ]
  },
  {
   "cell_type": "code",
   "execution_count": 134,
   "id": "8bbd89bb-684e-4316-a959-5e95ccfb664a",
   "metadata": {},
   "outputs": [
    {
     "data": {
      "text/plain": [
       "0.771320643266746"
      ]
     },
     "execution_count": 134,
     "metadata": {},
     "output_type": "execute_result"
    }
   ],
   "source": [
    "np.random.seed(10)\n",
    "p = np.random.random()\n",
    "p"
   ]
  },
  {
   "cell_type": "markdown",
   "id": "766ff1b8-a35b-4941-b82e-3535127cad96",
   "metadata": {},
   "source": [
    "**If you want values in a given range then use UNIFORM function**"
   ]
  },
  {
   "cell_type": "code",
   "execution_count": 137,
   "id": "2cfcf8fa-8ad9-4168-8a75-c5db0176c6f2",
   "metadata": {},
   "outputs": [
    {
     "data": {
      "text/plain": [
       "8.74401941269306"
      ]
     },
     "execution_count": 137,
     "metadata": {},
     "output_type": "execute_result"
    }
   ],
   "source": [
    "# This will give random values between 5-10\n",
    "\n",
    "np.random.uniform(5,10)"
   ]
  },
  {
   "cell_type": "code",
   "execution_count": 142,
   "id": "14633d44-e498-4176-aeb3-ce19c6a7764f",
   "metadata": {},
   "outputs": [
    {
     "data": {
      "text/plain": [
       "array([[8.42679909, 9.76696673, 5.01974133, 7.56096132, 9.06310481],\n",
       "       [8.06263033, 8.60877659, 6.45938034, 9.58887061, 8.57287892]])"
      ]
     },
     "execution_count": 142,
     "metadata": {},
     "output_type": "execute_result"
    }
   ],
   "source": [
    "# This will give 10 random values between 5-10\n",
    "np.random.uniform(5,10,10).reshape(2,5)"
   ]
  },
  {
   "cell_type": "markdown",
   "id": "7f6ed8ee-904c-4660-9fc0-4e206bf985f3",
   "metadata": {},
   "source": [
    "**If you want integer values the use RANDINT Function**"
   ]
  },
  {
   "cell_type": "code",
   "execution_count": 144,
   "id": "6a935bef-e27e-4327-839d-68d43efa7264",
   "metadata": {},
   "outputs": [
    {
     "data": {
      "text/plain": [
       "array([[33, 45, 33, 48, 42],\n",
       "       [50, 50, 45, 32, 21]], dtype=int32)"
      ]
     },
     "execution_count": 144,
     "metadata": {},
     "output_type": "execute_result"
    }
   ],
   "source": [
    "# This will create 10 random integer values between 20-60\n",
    "\n",
    "np.random.randint(20,60,10).reshape(2,5)"
   ]
  },
  {
   "cell_type": "markdown",
   "id": "981d04e8-c7b7-4d9e-a713-01f25f937813",
   "metadata": {},
   "source": [
    "### Argmax & Argmin"
   ]
  },
  {
   "cell_type": "markdown",
   "id": "36fde4cc-324d-4b6b-83ab-6c47acfd2b8a",
   "metadata": {},
   "source": [
    "**These return the indexes of the max and min value**"
   ]
  },
  {
   "cell_type": "code",
   "execution_count": 149,
   "id": "2edd0c5c-8606-4ec3-be31-3f24d0bda5e3",
   "metadata": {},
   "outputs": [
    {
     "name": "stdout",
     "output_type": "stream",
     "text": [
      "[24 91 70 74 54 35]\n",
      "The index of maximum value is 1\n",
      "The index of minimum value is 0\n"
     ]
    }
   ],
   "source": [
    "a = np.random.randint(20,100,6)\n",
    "print(a)\n",
    "print(\"The index of maximum value is\",np.argmax(a))\n",
    "print(\"The index of minimum value is\",np.argmin(a))"
   ]
  },
  {
   "cell_type": "markdown",
   "id": "752b4ac8-ece5-4836-849f-c97e17ae95be",
   "metadata": {},
   "source": [
    "**Problem 1. Replace all the odd values with -1**"
   ]
  },
  {
   "cell_type": "markdown",
   "id": "7e5459c2-b078-4075-a013-88aec6b45e5a",
   "metadata": {},
   "source": [
    "<p>To solve this we first create an integer array with some odd values in it. Then we use the conditional indexing to cahnge odd numbers to -1.</p>"
   ]
  },
  {
   "cell_type": "code",
   "execution_count": 150,
   "id": "37d69ff1-cd0d-4192-ae2c-d5715213f50f",
   "metadata": {},
   "outputs": [
    {
     "data": {
      "text/plain": [
       "array([3, 4, 5, 6, 7, 8, 9])"
      ]
     },
     "execution_count": 150,
     "metadata": {},
     "output_type": "execute_result"
    }
   ],
   "source": [
    "a = np.arange(3,10)\n",
    "a"
   ]
  },
  {
   "cell_type": "code",
   "execution_count": 154,
   "id": "99a76ba3-5737-4a67-962b-f528e2273a39",
   "metadata": {},
   "outputs": [
    {
     "data": {
      "text/plain": [
       "array([-1,  4, -1,  6, -1,  8, -1])"
      ]
     },
     "execution_count": 154,
     "metadata": {},
     "output_type": "execute_result"
    }
   ],
   "source": [
    "a[a%2!=0] = -1\n",
    "a"
   ]
  },
  {
   "cell_type": "markdown",
   "id": "3c0b92f4-e29b-48e8-8b75-2266e3a1030c",
   "metadata": {},
   "source": [
    "**The above method change the original array.To avoid this we use the WHERE method**"
   ]
  },
  {
   "cell_type": "code",
   "execution_count": 155,
   "id": "a615f151-7619-4d11-ba6a-684ece693273",
   "metadata": {},
   "outputs": [
    {
     "data": {
      "text/plain": [
       "array([ 3,  4,  5,  6,  7,  8,  9, 10, 11, 12, 13, 14, 15, 16])"
      ]
     },
     "execution_count": 155,
     "metadata": {},
     "output_type": "execute_result"
    }
   ],
   "source": [
    "b = np.arange(3,17)\n",
    "b"
   ]
  },
  {
   "cell_type": "code",
   "execution_count": 156,
   "id": "ac1a0df8-6271-44a2-9eb1-a6d9e2a6e8b1",
   "metadata": {},
   "outputs": [
    {
     "data": {
      "text/plain": [
       "array([-1,  4, -1,  6, -1,  8, -1, 10, -1, 12, -1, 14, -1, 16])"
      ]
     },
     "execution_count": 156,
     "metadata": {},
     "output_type": "execute_result"
    }
   ],
   "source": [
    "# it takes three arguements. The condition , value if condition satisfies and value if not satisfy\n",
    "\n",
    "np.where(b%2!=0,-1,b)"
   ]
  }
 ],
 "metadata": {
  "kernelspec": {
   "display_name": "Python 3 (ipykernel)",
   "language": "python",
   "name": "python3"
  },
  "language_info": {
   "codemirror_mode": {
    "name": "ipython",
    "version": 3
   },
   "file_extension": ".py",
   "mimetype": "text/x-python",
   "name": "python",
   "nbconvert_exporter": "python",
   "pygments_lexer": "ipython3",
   "version": "3.12.5"
  }
 },
 "nbformat": 4,
 "nbformat_minor": 5
}
